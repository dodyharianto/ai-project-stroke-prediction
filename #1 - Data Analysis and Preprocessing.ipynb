{
  "nbformat": 4,
  "nbformat_minor": 0,
  "metadata": {
    "colab": {
      "name": "Copy of AI Project - #1 - Data Analysis and Preprocessing.ipynb",
      "provenance": []
    },
    "kernelspec": {
      "name": "python3",
      "display_name": "Python 3"
    },
    "language_info": {
      "name": "python"
    }
  },
  "cells": [
    {
      "cell_type": "code",
      "source": [
        "from google.colab import drive\n",
        "drive.mount('/content/drive')"
      ],
      "metadata": {
        "id": "5rJzdQGbSflT"
      },
      "execution_count": null,
      "outputs": []
    },
    {
      "cell_type": "code",
      "execution_count": null,
      "metadata": {
        "id": "Ifu7PrUuR3Mq"
      },
      "outputs": [],
      "source": [
        "import pandas as pd\n",
        "import numpy as np\n",
        "from matplotlib import pyplot as plt\n",
        "import seaborn as sns\n",
        "import plotly.express as px\n",
        "import os\n",
        "from scipy import stats"
      ]
    },
    {
      "cell_type": "code",
      "source": [
        "df = pd.read_csv('/content/drive/MyDrive/SEMESTER 4 COURSES/Artificial Intelligence/Prototype Project/Datasets/healthcare-dataset-stroke-data.csv')\n",
        "df.head()"
      ],
      "metadata": {
        "id": "W5hZ90xYCHOH"
      },
      "execution_count": null,
      "outputs": []
    },
    {
      "cell_type": "code",
      "source": [
        "def tidy_columns(col_list):\n",
        "  return [col.title().replace('_', ' ') for col in col_list]\n",
        "\n",
        "df.columns = tidy_columns(df.columns)\n",
        "df.columns"
      ],
      "metadata": {
        "id": "SEluqbt_x6cc"
      },
      "execution_count": null,
      "outputs": []
    },
    {
      "cell_type": "code",
      "source": [
        "df.info()"
      ],
      "metadata": {
        "id": "u7B8oHYrCQ5b"
      },
      "execution_count": null,
      "outputs": []
    },
    {
      "cell_type": "markdown",
      "source": [
        "# Exploratory Data Analysis"
      ],
      "metadata": {
        "id": "gTIkAc0-dApY"
      }
    },
    {
      "cell_type": "markdown",
      "source": [
        "- **Missing Values Observation**"
      ],
      "metadata": {
        "id": "zWpDyTWVZp-v"
      }
    },
    {
      "cell_type": "code",
      "source": [
        "df.isnull().sum().to_frame()"
      ],
      "metadata": {
        "id": "589JLESNEadW"
      },
      "execution_count": null,
      "outputs": []
    },
    {
      "cell_type": "code",
      "source": [
        "sns.heatmap(df.isnull().sum().to_frame(), annot = True, cmap = 'RdYlGn_r', fmt = '.0f')\n",
        "plt.show()"
      ],
      "metadata": {
        "id": "3acFnaH9Z0Iq"
      },
      "execution_count": null,
      "outputs": []
    },
    {
      "cell_type": "markdown",
      "source": [
        "- **Target Variable Analysis**"
      ],
      "metadata": {
        "id": "PzOgTUCidDzS"
      }
    },
    {
      "cell_type": "code",
      "source": [
        "df['Stroke'].value_counts()"
      ],
      "metadata": {
        "id": "U28glVmVdCYA"
      },
      "execution_count": null,
      "outputs": []
    },
    {
      "cell_type": "code",
      "source": [
        "def compare_stroke_outcomes(df):\n",
        "    # plt.style.use('fivethirtyeight')\n",
        "    sns.set_style('darkgrid')\n",
        "    labels = ['Normal', 'Stroke']\n",
        "    numbers = [4861, 249]\n",
        "    colors = ['green', 'red']\n",
        "\n",
        "    fig, ax = plt.subplots(nrows = 1, ncols = 2, figsize = (12, 6))\n",
        "    fig.suptitle('Stroke Disease Outcome Comparison', fontsize = 'xx-large', fontweight = 'bold')\n",
        "    ax[0].pie(numbers, labels = labels, colors = colors, autopct = '%.1f%%', \n",
        "              explode = [0.2, 0], shadow = True)\n",
        "    ax[0].set_title('Pie Chart', fontsize = 12, fontweight = 'bold', color = 'blue')\n",
        "\n",
        "    ax[1].bar(x = labels, height = numbers, data = df, color = colors)\n",
        "    ax[1].set_title('Bar Chart', fontsize = 12, fontweight = 'bold', color = 'blue')\n",
        "    ax[1].set_xlabel('Stroke Outcome')\n",
        "    plt.show()"
      ],
      "metadata": {
        "id": "2u50LzjDdQpJ"
      },
      "execution_count": null,
      "outputs": []
    },
    {
      "cell_type": "code",
      "source": [
        "compare_stroke_outcomes(df)"
      ],
      "metadata": {
        "id": "t7LiEQIMfT48"
      },
      "execution_count": null,
      "outputs": []
    },
    {
      "cell_type": "markdown",
      "source": [
        "- **Distribution of Numeric Variables**"
      ],
      "metadata": {
        "id": "UveMEPSoc4B2"
      }
    },
    {
      "cell_type": "code",
      "source": [
        "avg_age = round(np.mean(df['Age']), 2)\n",
        "print('Average Patient Age: {}'.format(avg_age))"
      ],
      "metadata": {
        "id": "2VwZeXX-wZEj"
      },
      "execution_count": null,
      "outputs": []
    },
    {
      "cell_type": "code",
      "source": [
        "plt.figure(figsize = (8, 6))\n",
        "sns.set_style('whitegrid')\n",
        "sns.histplot(df['Age'], kde = True)\n",
        "plt.title('Patient Age Distribution', fontsize = 16, fontweight = 'bold')\n",
        "plt.axvline(x = avg_age, color = 'red')\n",
        "plt.text(s = f'Mean: {avg_age}', x = avg_age + 2, y = 360)\n",
        "plt.show()"
      ],
      "metadata": {
        "id": "G_k9K4FrvT3c"
      },
      "execution_count": null,
      "outputs": []
    },
    {
      "cell_type": "code",
      "source": [
        "avg_bmi = round(np.mean(df['Bmi']), 2)\n",
        "print('Average Patient Body Mass Index: {}'.format(avg_bmi))"
      ],
      "metadata": {
        "id": "-i7UilKJGMPM"
      },
      "execution_count": null,
      "outputs": []
    },
    {
      "cell_type": "code",
      "source": [
        "plt.figure(figsize = (8, 6))\n",
        "sns.set_style('whitegrid')\n",
        "sns.histplot(df['Bmi'], kde = True)\n",
        "plt.title('Patient BMI Distribution', fontsize = 16, fontweight = 'bold')\n",
        "plt.xlabel('Body Mass Index')\n",
        "plt.axvline(x = avg_bmi, color = 'red')\n",
        "plt.text(s = f'Mean: {avg_bmi}', x = avg_bmi + 5, y = 275)\n",
        "plt.show()"
      ],
      "metadata": {
        "id": "LcB6Ut-EF9Xm"
      },
      "execution_count": null,
      "outputs": []
    },
    {
      "cell_type": "code",
      "source": [
        "avg_glucose_level = round(np.mean(df['Avg Glucose Level']), 2)\n",
        "print('Average Patient Body Mass Index: {}'.format(avg_glucose_level))"
      ],
      "metadata": {
        "id": "e_iezzemtIdI"
      },
      "execution_count": null,
      "outputs": []
    },
    {
      "cell_type": "code",
      "source": [
        "plt.figure(figsize = (8, 6))\n",
        "sns.set_style('whitegrid')\n",
        "sns.histplot(df['Avg Glucose Level'], kde = True)\n",
        "plt.title('Patient Average Glucose Level Distribution', fontsize = 16, fontweight = 'bold')\n",
        "plt.xlabel('Average Glucose Level')\n",
        "plt.axvline(x = avg_glucose_level, color = 'red')\n",
        "plt.text(s = f'Mean: {avg_glucose_level}', x = avg_glucose_level + 5, y = 275)\n",
        "plt.show()"
      ],
      "metadata": {
        "id": "dK4xF15UtAxC"
      },
      "execution_count": null,
      "outputs": []
    },
    {
      "cell_type": "markdown",
      "source": [
        "- **Relationship Between All Variables**"
      ],
      "metadata": {
        "id": "2zabjctMtTPT"
      }
    },
    {
      "cell_type": "code",
      "source": [
        "sns.set_style('whitegrid')\n",
        "sns.heatmap(df.corr(), cmap = 'RdYlGn_r', annot = True)\n",
        "plt.show()"
      ],
      "metadata": {
        "id": "EprpGpuvtS5B"
      },
      "execution_count": null,
      "outputs": []
    },
    {
      "cell_type": "markdown",
      "source": [
        "# Data Preprocessing"
      ],
      "metadata": {
        "id": "UOqD0a8Lcos6"
      }
    },
    {
      "cell_type": "markdown",
      "source": [
        "- **Feature Selection**"
      ],
      "metadata": {
        "id": "a9vkmoR-ObNI"
      }
    },
    {
      "cell_type": "code",
      "source": [
        "df.drop('Id', axis = 'columns', inplace = True)"
      ],
      "metadata": {
        "id": "OOS7GeRDcsls"
      },
      "execution_count": null,
      "outputs": []
    },
    {
      "cell_type": "code",
      "source": [
        "df.head(5)"
      ],
      "metadata": {
        "id": "pclYS0-8cp6U"
      },
      "execution_count": null,
      "outputs": []
    },
    {
      "cell_type": "markdown",
      "source": [
        "- **Missing Values Handling - Numerical Data**"
      ],
      "metadata": {
        "id": "k4NhmYkgP8sb"
      }
    },
    {
      "cell_type": "code",
      "source": [
        "df['Bmi'].fillna(np.nanmedian(df['Bmi']), inplace = True)"
      ],
      "metadata": {
        "id": "kR7M4q-TRB7j"
      },
      "execution_count": null,
      "outputs": []
    },
    {
      "cell_type": "markdown",
      "source": [
        "- **Missing Values Handling - Categorical Data**"
      ],
      "metadata": {
        "id": "ExNwxw-_yECZ"
      }
    },
    {
      "cell_type": "code",
      "source": [
        "df['Gender'].value_counts()"
      ],
      "metadata": {
        "id": "XO-avgTGIu0R"
      },
      "execution_count": null,
      "outputs": []
    },
    {
      "cell_type": "code",
      "source": [
        "df['Ever Married'].value_counts()"
      ],
      "metadata": {
        "id": "TYP069hjOp45"
      },
      "execution_count": null,
      "outputs": []
    },
    {
      "cell_type": "code",
      "source": [
        "df['Work Type'].value_counts()"
      ],
      "metadata": {
        "id": "1gPJV21EOugI"
      },
      "execution_count": null,
      "outputs": []
    },
    {
      "cell_type": "code",
      "source": [
        "df['Residence Type'].value_counts()"
      ],
      "metadata": {
        "id": "j0ViFTruOx8W"
      },
      "execution_count": null,
      "outputs": []
    },
    {
      "cell_type": "code",
      "source": [
        "df['Smoking Status'].value_counts()"
      ],
      "metadata": {
        "id": "S7r5f9GoO2UQ"
      },
      "execution_count": null,
      "outputs": []
    },
    {
      "cell_type": "code",
      "source": [
        "df[df['Gender'] == 'Other']"
      ],
      "metadata": {
        "id": "KBuH4jGZwjTE"
      },
      "execution_count": null,
      "outputs": []
    },
    {
      "cell_type": "code",
      "source": [
        "df.loc[df['Gender'] == 'Other', 'Gender'] = 'Female'"
      ],
      "metadata": {
        "id": "Io36ibfTxppo"
      },
      "execution_count": null,
      "outputs": []
    },
    {
      "cell_type": "markdown",
      "source": [
        "- **Categorical Columns Encoding**"
      ],
      "metadata": {
        "id": "EONk_PsCOe-E"
      }
    },
    {
      "cell_type": "code",
      "source": [
        "from sklearn.preprocessing import OneHotEncoder\n",
        "\n",
        "def onehot_encode(df, column):\n",
        "    onehot_encoder = OneHotEncoder(sparse = False)\n",
        "    encoded_column = onehot_encoder.fit_transform(df[[column]]).astype('int64')\n",
        "    encoded_column_df = pd.DataFrame(encoded_column, \n",
        "                                     columns = [column + '_' + str(x) for x in df[column].unique()])\n",
        "    \n",
        "    joined_df = df.join(encoded_column_df)\n",
        "    joined_and_cleaned_df = joined_df.drop(column, axis = 1)\n",
        "    return joined_and_cleaned_df"
      ],
      "metadata": {
        "id": "8HdBnR05Iub8"
      },
      "execution_count": null,
      "outputs": []
    },
    {
      "cell_type": "code",
      "source": [
        "categorical_columns = [col for col in df.columns if df[col].dtype == 'O']\n",
        "categorical_columns"
      ],
      "metadata": {
        "id": "7IAltSbocns7"
      },
      "execution_count": null,
      "outputs": []
    },
    {
      "cell_type": "code",
      "source": [
        "[col for col in df.columns if df[col].dtype == 'O' and df[col].nunique() > 2]"
      ],
      "metadata": {
        "id": "mAz05lJ_o_Dz"
      },
      "execution_count": null,
      "outputs": []
    },
    {
      "cell_type": "code",
      "source": [
        "numerical_columns = [col for col in df.columns if df[col].dtype == 'float']\n",
        "numerical_columns"
      ],
      "metadata": {
        "id": "r9B4zymTz2mI"
      },
      "execution_count": null,
      "outputs": []
    },
    {
      "cell_type": "markdown",
      "source": [
        "One Hot Encoding"
      ],
      "metadata": {
        "id": "pXTmVYklsi2R"
      }
    },
    {
      "cell_type": "code",
      "source": [
        "for col in ['Work Type', 'Residence Type', 'Smoking Status']:\n",
        "    df = onehot_encode(df, col)"
      ],
      "metadata": {
        "id": "N3a60nSHPHXa"
      },
      "execution_count": null,
      "outputs": []
    },
    {
      "cell_type": "code",
      "source": [
        "df.head()"
      ],
      "metadata": {
        "id": "tWNR5hDhPXCs"
      },
      "execution_count": null,
      "outputs": []
    },
    {
      "cell_type": "markdown",
      "source": [
        "Ordinal Encoding"
      ],
      "metadata": {
        "id": "BcbTaSYxskyl"
      }
    },
    {
      "cell_type": "code",
      "source": [
        "df['Ever Married'].replace({'Yes': 1, 'No': 0}, inplace = True)\n",
        "df['Gender'].replace({'Male': 1, 'Female': 0}, inplace = True)"
      ],
      "metadata": {
        "id": "y59Kju6wshGU"
      },
      "execution_count": null,
      "outputs": []
    },
    {
      "cell_type": "code",
      "source": [
        "df.head()"
      ],
      "metadata": {
        "id": "P-sBirA6vb3e"
      },
      "execution_count": null,
      "outputs": []
    },
    {
      "cell_type": "markdown",
      "source": [
        "- **Feature Scaling**"
      ],
      "metadata": {
        "id": "3aew_xt0zL7a"
      }
    },
    {
      "cell_type": "code",
      "source": [
        "from sklearn.preprocessing import StandardScaler\n",
        "\n",
        "standard_scaler = StandardScaler()\n",
        "df[numerical_columns] = standard_scaler.fit_transform(df[numerical_columns])"
      ],
      "metadata": {
        "id": "fiKiqO6TzLiC"
      },
      "execution_count": null,
      "outputs": []
    },
    {
      "cell_type": "code",
      "source": [
        "df.head()"
      ],
      "metadata": {
        "id": "duF8o5_50CDb"
      },
      "execution_count": null,
      "outputs": []
    },
    {
      "cell_type": "code",
      "source": [
        "plt.figure(figsize = (8, 6))\n",
        "sns.set_style('whitegrid')\n",
        "sns.histplot(df['Avg Glucose Level'], kde = True)\n",
        "plt.title('Patient Average Glucose Level Distribution', fontsize = 16, fontweight = 'bold')\n",
        "plt.xlabel('Average Glucose Level')\n",
        "plt.show()"
      ],
      "metadata": {
        "id": "sl74cxYIiHjp"
      },
      "execution_count": null,
      "outputs": []
    },
    {
      "cell_type": "code",
      "source": [
        "df['Avg Glucose Level'].max()"
      ],
      "metadata": {
        "id": "H1g4E66t7TMN"
      },
      "execution_count": null,
      "outputs": []
    },
    {
      "cell_type": "code",
      "source": [
        "df['Avg Glucose Level'].min()"
      ],
      "metadata": {
        "id": "nr__rhhm7hhu"
      },
      "execution_count": null,
      "outputs": []
    },
    {
      "cell_type": "code",
      "source": [
        "df['Age'].min()"
      ],
      "metadata": {
        "id": "rQQUfok-7jMz"
      },
      "execution_count": null,
      "outputs": []
    },
    {
      "cell_type": "markdown",
      "source": [
        "# Save File to Google Drive"
      ],
      "metadata": {
        "id": "NM7dEXKJzNu9"
      }
    },
    {
      "cell_type": "code",
      "source": [
        "filename = 'Scaled + Ordinal & OneHot df.csv'\n",
        "directory = '/content/drive/MyDrive/SEMESTER 4 COURSES/Artificial Intelligence/Prototype Project/Datasets/'\n",
        "\n",
        "with open(os.path.join(directory, filename), 'w') as f:\n",
        "    df.to_csv(f, index = False)"
      ],
      "metadata": {
        "id": "Ol6kJZk_yg8U"
      },
      "execution_count": null,
      "outputs": []
    }
  ]
}